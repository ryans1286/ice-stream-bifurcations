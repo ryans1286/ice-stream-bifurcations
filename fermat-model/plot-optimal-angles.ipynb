{
 "cells": [
  {
   "cell_type": "code",
   "execution_count": 1,
   "id": "f4b7c2da",
   "metadata": {},
   "outputs": [],
   "source": [
    "import numpy as np \n",
    "import pandas as pd\n",
    "import matplotlib.pyplot as plt\n",
    "import seaborn as sns\n",
    "import matplotlib.colors as mcolors"
   ]
  },
  {
   "cell_type": "code",
   "execution_count": null,
   "id": "0e85438b",
   "metadata": {},
   "outputs": [],
   "source": [
    "#Load the data\n",
    "\n",
    "#The number of possible combinations produced by optimal-bifurcation-angles.ipynb is huge\n",
    "#and was too large to store on Github \n",
    "\n",
    "#The data below represent a random subset of the original data \n",
    "#These are the data used to make Figure 2\n",
    "\n",
    "full_grn = pd.read_csv('output/full_sweep_greenland-10000.csv')\n",
    "full_ant = pd.read_csv('output/full_sweep_antarctica-10000.csv')\n",
    "\n",
    "full_grn_lwb = pd.read_csv('output/full_sweep_greenland_lwb-10000.csv')\n",
    "full_ant_lwb = pd.read_csv('output/full_sweep_antarctica_lwb-10000.csv')\n",
    "\n",
    "full_grn_hwb = pd.read_csv('output/full_sweep_greenland_hwb-10000.csv')\n",
    "full_ant_hwb = pd.read_csv('output/full_sweep_antarctica_hwb-10000.csv')"
   ]
  },
  {
   "cell_type": "code",
   "execution_count": null,
   "id": "b885595e",
   "metadata": {},
   "outputs": [],
   "source": [
    "#Load the observational data for comparison\n",
    "\n",
    "grn = pd.read_csv('../observation-data/greenland_bifurcation_angles.csv')\n",
    "ant = pd.read_csv('../observation-data/antarctica_bifurcation_angles.csv')"
   ]
  },
  {
   "cell_type": "code",
   "execution_count": null,
   "id": "8b2cd175",
   "metadata": {},
   "outputs": [],
   "source": [
    "#Plot histograms for Figure 2\n",
    "\n",
    "fig, ax = plt.subplots(2,1, sharex = True, sharey = True, figsize = (3.5,6))\n",
    "\n",
    "ax[0].hist(ant['angle'], bins = [0, 15, 25, 35, 45, 55, 65, 75, 85, 95, 105, 115, 125, 135], \n",
    "         density = True, edgecolor = 'k', color = '#E69F00', alpha = 0.25, label = \"Antarctica ($n = 87$)\", zorder = 0)\n",
    "\n",
    "sns.kdeplot(data = full_ant_lwb[full_ant_lwb['likely'] == 'yes'], x = \"sum_angle\", color = '#0072B2', linestyle = 'solid', \n",
    "            ax = ax[0], label = \"Low-weight branches\", legend = True, linewidth = 2)\n",
    "sns.kdeplot(data = full_ant[full_ant['likely'] == 'yes'], x = \"sum_angle\", color = '#0072B2', linestyle = 'dashed', \n",
    "            ax = ax[0], label = \"Equal weights\", legend = True, linewidth = 2)\n",
    "sns.kdeplot(data = full_ant_hwb[full_ant_hwb['likely'] == 'yes'], x = \"sum_angle\", color = '#0072B2', linestyle = 'dotted', \n",
    "            ax = ax[0], label = \"High-weight branches\", legend = True, linewidth = 2)\n",
    "\n",
    "ax[1].hist(grn['angle'], bins = [0, 15, 25, 35, 45, 55, 65, 75, 85, 95, 105, 115, 125, 135], \n",
    "         density = True, edgecolor = 'k', color = '#009E73', alpha = 0.25, label = \"Greenland ($n = 223$)\", zorder = 0)\n",
    "sns.kdeplot(data = full_grn_lwb[full_grn_lwb['likely'] == 'yes'], x = \"sum_angle\", color = '#D55E00', linestyle = 'solid', \n",
    "            ax = ax[1], label = \"Low-weight branches\", legend = True, linewidth = 2)\n",
    "sns.kdeplot(data = full_grn[full_grn['likely'] == 'yes'], x = \"sum_angle\", color = '#D55E00', linestyle = 'dashed', \n",
    "            ax = ax[1], label = \"Equal weights\", legend = True, linewidth = 2)\n",
    "sns.kdeplot(data = full_grn_hwb[full_grn_hwb['likely'] == 'yes'], x = \"sum_angle\", color = '#D55E00', linestyle = 'dotted', \n",
    "            ax = ax[1], label = \"High-weight branches\", legend = True, linewidth = 2)\n",
    "\n",
    "ax[0].legend(fontsize = 9, loc = (0.45, 0.6))\n",
    "ax[1].legend(fontsize = 9, loc = (0.45, 0.6))\n",
    "\n",
    "ax[0].annotate(\"$\\\\frac{w}{h} \\\\sim 100$\", xycoords = \"axes fraction\", xy = (0.85, 0.1), color = \"#0072B2\", fontsize = 12)\n",
    "ax[1].annotate(\"$\\\\frac{w}{h} \\\\sim 10$\", xycoords = \"axes fraction\", xy = (0.85, 0.1), color = \"#D55E00\", fontsize = 12)\n",
    "\n",
    "ax[1].set_xlabel(\"Bifurcation Angle ($\\\\circ$)\", fontsize = 12)\n",
    "ax[0].set_xlabel(\"Bifurcation Angle ($\\\\circ$)\", fontsize = 12)\n",
    "ax[0].set_ylabel(\"Density\", fontsize = 12)\n",
    "ax[1].set_ylabel(\"Density\", fontsize = 12)\n",
    "\n",
    "ax[0].set_xticks([0, 30, 60, 90, 120, 150, 180])\n",
    "\n",
    "ax[0].annotate('(b)', xy = (-0.3, 1.), xycoords = 'axes fraction', fontsize = 12)\n",
    "ax[1].annotate('(c)', xy = (-0.3, 1.), xycoords = 'axes fraction', fontsize = 12)\n",
    "\n",
    "sns.despine()\n",
    "\n",
    "plt.savefig(\"fig-2_branch-weight-distributions-final.png\", dpi = 300, bbox_inches = \"tight\")\n",
    "plt.show()"
   ]
  },
  {
   "cell_type": "code",
   "execution_count": null,
   "id": "849bf3a5",
   "metadata": {},
   "outputs": [],
   "source": []
  }
 ],
 "metadata": {
  "kernelspec": {
   "display_name": "base",
   "language": "python",
   "name": "python3"
  },
  "language_info": {
   "codemirror_mode": {
    "name": "ipython",
    "version": 3
   },
   "file_extension": ".py",
   "mimetype": "text/x-python",
   "name": "python",
   "nbconvert_exporter": "python",
   "pygments_lexer": "ipython3",
   "version": "3.12.3"
  }
 },
 "nbformat": 4,
 "nbformat_minor": 5
}
