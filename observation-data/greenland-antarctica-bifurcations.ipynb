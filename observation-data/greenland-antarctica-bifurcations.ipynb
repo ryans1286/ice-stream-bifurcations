{
 "cells": [
  {
   "cell_type": "code",
   "execution_count": null,
   "id": "b81a0c56-bdf5-40c9-b6ac-a1c7ab3c9a3d",
   "metadata": {},
   "outputs": [],
   "source": [
    "import numpy as np\n",
    "import matplotlib.pyplot as plt\n",
    "import pandas as pd\n",
    "import seaborn as sns\n",
    "from scipy import stats\n",
    "from matplotlib.lines import Line2D"
   ]
  },
  {
   "cell_type": "code",
   "execution_count": null,
   "id": "ff1381be",
   "metadata": {},
   "outputs": [],
   "source": [
    "#Load the data\n",
    "\n",
    "grn = pd.read_csv('greenland_bifurcation_angles.csv')\n",
    "ant = pd.read_csv('antarctica_bifurcation_angles.csv')"
   ]
  },
  {
   "cell_type": "code",
   "execution_count": null,
   "id": "1a066f03",
   "metadata": {},
   "outputs": [],
   "source": [
    "#Print Greenland statistics\n",
    "\n",
    "grn['angle'].describe()"
   ]
  },
  {
   "cell_type": "code",
   "execution_count": null,
   "id": "74f3f572",
   "metadata": {},
   "outputs": [],
   "source": [
    "#Print antarctica statistics\n",
    "\n",
    "ant['angle'].describe()"
   ]
  },
  {
   "cell_type": "code",
   "execution_count": null,
   "id": "24c1cf3a",
   "metadata": {},
   "outputs": [],
   "source": [
    "#Plot distributions for Figure 1\n",
    "\n",
    "fig, ax = plt.subplots(figsize = (4,3.7))\n",
    "hist_grn = ax.hist(grn['angle'], label = 'Greenland', density = False, alpha = 1, color = \"#BFE6DB\", edgecolor = 'grey', bins = [0, 15, 25, 35, 45, 55, 65, 75, 85, 95, 105, 115, 125, 135])\n",
    "hist_ant = ax.hist(ant['angle'], label = 'Antarctica', density = False, alpha = 1, color = \"#F8E6BF\", edgecolor = 'grey', bins = [0, 15, 25, 35, 45, 55, 65, 75, 85, 95, 105, 115, 125, 135])\n",
    "ax.set_ylabel('Count', fontsize = 12)\n",
    "\n",
    "ax1 = ax.twinx()\n",
    "sns.kdeplot(grn['angle'], color = \"k\", linewidth = 1.5, ax = ax1, linestyle = 'dashdot',label = 'Greenland')\n",
    "sns.kdeplot(ant['angle'], color = \"k\", linewidth = 1.5, ax = ax1, linestyle = 'solid', label = 'Antarctica')\n",
    "\n",
    "ax.set_xticks([0, 30, 60, 90, 120, 150, 180])\n",
    "ax.set_xlabel('Bifurcation Angle ($\\\\theta$)', fontsize = 12)\n",
    "ax1.set_ylabel('Density', fontsize = 12)\n",
    "ax1.set_yticks([0, 0.005, 0.01, 0.015, 0.02])\n",
    "\n",
    "ax.annotate(\" $\\\\theta_{50\\\\%} = 62^{\\\\circ}$\", xy = (0.026, 0.87), xycoords = \"axes fraction\")\n",
    "ax.annotate(\"$\\\\theta_{mean} = 64^{\\\\circ}$\", xy = (0.02, 0.94), xycoords = \"axes fraction\")\n",
    "ax.annotate(\"  IQR $= 31^{\\\\circ}$\", xy = (0.015, 0.8), xycoords = \"axes fraction\")\n",
    "\n",
    "handles_list = [\n",
    "    hist_grn[2][0],  # Get the handle from the first histogram plot call\n",
    "    Line2D([0], [0], color='k', linewidth=1.5, linestyle='dashdot'), # Greenland KDE\n",
    "    hist_ant[2][0],  # Get the handle from the second histogram plot call\n",
    "    Line2D([0], [0], color='k', linewidth=1.5, linestyle='solid'),   # Antarctica KDE\n",
    "]\n",
    "labels_list = ['Greenland ($n = 223$)', 'Greenland KDE', 'Antarctica ($n = 87$)', 'Antarctica KDE']\n",
    "\n",
    "# Create the single legend\n",
    "ax.legend(handles_list, labels_list, loc='upper right', fontsize = 8)\n",
    "ax.annotate(\"(c)\", fontsize = 12, xy = (-0.2, 0.92), xycoords = 'axes fraction')\n",
    "\n",
    "#plt.savefig('fig-1_measured-angles.png', dpi = 300, bbox_inches = 'tight')"
   ]
  },
  {
   "cell_type": "code",
   "execution_count": null,
   "id": "4900b3bd",
   "metadata": {},
   "outputs": [],
   "source": [
    "#Combine the datasets\n",
    "\n",
    "all_angles = np.zeros(223+87)\n",
    "all_angles[:223] = grn['angle']\n",
    "all_angles[223:] = ant['angle']"
   ]
  },
  {
   "cell_type": "code",
   "execution_count": null,
   "id": "663d0c2c",
   "metadata": {},
   "outputs": [],
   "source": [
    "#Print statistics for all bifurcation angles\n",
    "\n",
    "all_bifurcations = pd.DataFrame()\n",
    "all_bifurcations['angle'] = all_angles\n",
    "all_bifurcations['angle'].describe()"
   ]
  },
  {
   "cell_type": "code",
   "execution_count": null,
   "id": "b48c4fd7-aaf9-4b75-af90-72fb7c7f669d",
   "metadata": {},
   "outputs": [],
   "source": [
    "#Plot combined distribution of all bifurcation angles\n",
    "\n",
    "fig, ax = plt.subplots()\n",
    "ax.hist(all_angles, bins = [0, 15, 25, 35, 45, 55, 65, 75, 85, 95, 105, 115, 125, 135], color = 'lightblue', edgecolor = 'k')\n",
    "ax2 = ax.twinx()\n",
    "ax2 = sns.kdeplot(all_angles, color = 'k', linewidth = 2)\n",
    "ax.set_ylabel('Count', fontsize = 12)\n",
    "ax2.set_ylabel('Density', fontsize = 12)\n",
    "ax.set_xlabel('Bifurcation Angle ($\\\\circ$)', fontsize = 12)\n",
    "ax.vlines(48, ymin = 0, ymax = 52.5, linewidth = 2, color = 'red')\n",
    "ax.vlines(79, ymin = 0, ymax = 37.2, linewidth = 2, color = 'red')\n",
    "ax.annotate(\"IQR\", xycoords = \"axes fraction\", xy = (0.4375,0.4), fontsize = 12, color = 'red', weight = 'bold')\n",
    "ax.annotate(\"\", xytext = (0.435, 0.415), xy=(0.375, 0.415), xycoords = \"axes fraction\", arrowprops=dict(arrowstyle=\"->\", color = 'red', lw = 1.5))\n",
    "ax.annotate(\"\", xytext = (0.505, 0.415), xy=(0.565, 0.415), xycoords = \"axes fraction\", arrowprops=dict(arrowstyle=\"->\", color = 'red', lw = 1.5))\n",
    "\n",
    "ax.annotate(\"$n = 310$\\n$\\\\theta_{mean} = 63.6^{\\\\circ}$\\n$\\\\theta_{min} = 15.5^{\\\\circ}$\\n$\\\\theta_{mid} = 61.6^{\\\\circ}$\\n$\\\\theta_{max} = 121.8^{\\\\circ}$\\n$\\\\sigma = 21.8^{\\\\circ}$\", xycoords = 'axes fraction', xy = (0.7, 0.67), fontsize = 12)\n",
    "#plt.savefig(\"all-bifurcations-dist.png\", dpi = 300, bbox_inches = 'tight')\n",
    "plt.show()\n",
    "\n",
    "\"\"\"\n",
    "count    310.000000\n",
    "mean      63.635045\n",
    "std       21.810151\n",
    "min       15.484000\n",
    "25%       47.943000\n",
    "50%       61.589000\n",
    "75%       78.856500\n",
    "max      121.823000\n",
    "\"\"\""
   ]
  },
  {
   "cell_type": "code",
   "execution_count": null,
   "id": "7c476e27",
   "metadata": {},
   "outputs": [],
   "source": [
    "#KS test to check if distribution is normal\n",
    "\n",
    "normal_test = stats.kstest(all_angles, 'norm', args=(np.mean(all_angles), np.std(all_angles)))\n",
    "pvalN = normal_test[1]\n",
    "print(\"Null hypothesis: distribution is not normal\")\n",
    "print(\"p-value =\", pvalN)\n",
    "\n",
    "if normal_test[1] < 0.05:\n",
    "    print(\"Cannot reject null hypothesis\")\n",
    "elif normal_test[1] >= 0.05:\n",
    "    print(\"Reject null hypothesis\")"
   ]
  },
  {
   "cell_type": "code",
   "execution_count": null,
   "id": "2d63a7ea",
   "metadata": {},
   "outputs": [],
   "source": [
    "#KS test to check if distribution is uniform\n",
    "\n",
    "uniform_test = stats.kstest(all_angles, 'norm', args=(all_angles.min(), all_angles.max()-all_angles.min()))\n",
    "pvalU = uniform_test[1]\n",
    "print(\"Null hypothesis: distribution is not uniform\")\n",
    "print(\"p-value =\", pvalU)\n",
    "\n",
    "if uniform_test[1] < 0.05:\n",
    "    print(\"Cannot reject null hypothesis\")\n",
    "elif uniform_test[1] >= 0.05:\n",
    "    print(\"Reject null hypothesis\")"
   ]
  }
 ],
 "metadata": {
  "kernelspec": {
   "display_name": "base",
   "language": "python",
   "name": "python3"
  },
  "language_info": {
   "codemirror_mode": {
    "name": "ipython",
    "version": 3
   },
   "file_extension": ".py",
   "mimetype": "text/x-python",
   "name": "python",
   "nbconvert_exporter": "python",
   "pygments_lexer": "ipython3",
   "version": "3.12.3"
  }
 },
 "nbformat": 4,
 "nbformat_minor": 5
}
